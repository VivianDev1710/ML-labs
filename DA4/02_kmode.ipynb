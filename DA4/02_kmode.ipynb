{
 "cells": [
  {
   "cell_type": "code",
   "execution_count": 1,
   "metadata": {},
   "outputs": [],
   "source": [
    "import numpy as np\n",
    "import matplotlib.pyplot as plt\n",
    "import pandas as pd\n",
    "from sklearn.cluster import KMeans\n",
    "%matplotlib inline\n",
    "import numpy as np"
   ]
  },
  {
   "cell_type": "code",
   "execution_count": 124,
   "metadata": {},
   "outputs": [],
   "source": [
    "df = pd.read_csv('Mall_Customers.csv')\n",
    "gender_map = {'Male': 0, 'Female': 1}\n",
    "# df['Gender Code'] = df['Genre'].map(gender_map)\n",
    "age_bins = [0, 15, 30, 45,60,80, 100]\n",
    "age_labels = [1, 2, 3,4,5,6]\n",
    "df['Age Class'] = pd.cut(df['Age'], bins=age_bins, labels=age_labels)\n",
    "income_bins = [0, 10, 20, 30, 40, 50, 60, 70, 80, 90, 100,200]\n",
    "income_labels = [1, 2, 3, 4, 5, 6, 7, 8, 9, 10,11]\n",
    "df['Income Class'] = pd.cut(df['Annual Income (k$)'], bins=income_bins, labels=income_labels)\n",
    "X = df.iloc[:, [5,6]].values"
   ]
  },
  {
   "cell_type": "code",
   "execution_count": null,
   "metadata": {},
   "outputs": [],
   "source": [
    "X"
   ]
  },
  {
   "cell_type": "code",
   "execution_count": 149,
   "metadata": {},
   "outputs": [],
   "source": [
    "from scipy.stats import mode"
   ]
  },
  {
   "cell_type": "code",
   "execution_count": 150,
   "metadata": {},
   "outputs": [],
   "source": [
    "def kmode(k):\n",
    "    epochs=100\n",
    "    \n",
    "    rng = np.random.default_rng()\n",
    "    centroids = rng.choice(X, size=k, replace=False)\n",
    "    n_samples, n_features = X.shape\n",
    "    distances = np.zeros((n_samples, k))\n",
    "\n",
    "    for e in range(epochs):\n",
    "        for i in range(n_samples):\n",
    "            data=X[i]\n",
    "            for j in range(k):\n",
    "                cen=centroids[j]\n",
    "                dis=0\n",
    "                for d in range(n_features):\n",
    "                    if data[d]!=cen[d]:\n",
    "                        dis+=1\n",
    "                distances[i, j] = dis\n",
    "\n",
    "        labels = np.argmin(distances, axis=1)\n",
    "\n",
    "        \n",
    "    # print(labels)\n",
    "        # for j in range(k):\n",
    "        # #     #calc mode of each feature for every centroid here\n",
    "        #     mask = labels == j\n",
    "        #     if np.sum(mask) > 0:\n",
    "        #         centroids[j] = np.apply_along_axis(lambda x: np.bincount(x).argmax(), axis=0, arr=X[mask])\n",
    "        for j in range(k):\n",
    "            cluster_j = X[labels == j]\n",
    "            # return cluster_j\n",
    "            # centroids[j] = cluster_j.mode().\n",
    "            centroids[j]  = np.apply_along_axis(lambda x: np.bincount(x).argmax(), axis=0, arr=cluster_j)\n",
    "    # labels_ = labels\n",
    "    # cluster_centers_ = centroids\n",
    "    return labels, centroids\n"
   ]
  },
  {
   "cell_type": "code",
   "execution_count": 164,
   "metadata": {},
   "outputs": [],
   "source": [
    "clusters, centroids=kmode(5)"
   ]
  },
  {
   "cell_type": "code",
   "execution_count": 165,
   "metadata": {},
   "outputs": [
    {
     "name": "stderr",
     "output_type": "stream",
     "text": [
      "C:\\Users\\Admin\\AppData\\Local\\Temp\\ipykernel_4204\\2471670578.py:5: UserWarning: No data for colormapping provided via 'c'. Parameters 'cmap' will be ignored\n",
      "  plt.scatter(df.iloc[j, 3], df.iloc[j, 2], c=colors[i], cmap='rainbow')\n"
     ]
    },
    {
     "data": {
      "image/png": "[encoded data removed]",
      "text/plain": [
       "<Figure size 640x480 with 1 Axes>"
      ]
     },
     "metadata": {},
     "output_type": "display_data"
    }
   ],
   "source": [
    "colors=['orange','g','b','c','r','m','grey','y','k']\n",
    "for i in range(5):\n",
    "    for j in range(200):\n",
    "        if clusters[j]==i:\n",
    "            plt.scatter(df.iloc[j, 3], df.iloc[j, 2], c=colors[i], cmap='rainbow')\n",
    "# plt.scatter(centroids[:,0], centroids[:, 1], s=150, c='k')\n",
    "plt.show()"
   ]
  },
  {
   "cell_type": "code",
   "execution_count": null,
   "metadata": {},
   "outputs": [],
   "source": [
    "# def distance(point1,point2):\n",
    "#     return np.sqrt(np.sum((point1-point2)**2))"
   ]
  },
  {
   "cell_type": "code",
   "execution_count": null,
   "metadata": {},
   "outputs": [],
   "source": [
    "# def calculate_wcss(centroids, clusters, data):\n",
    "#     wcss = 0\n",
    "#     for i in range(centroids.shape[0]):\n",
    "#         cluster_points = data[clusters == i]\n",
    "#         centroid = centroids[i]\n",
    "#         distances = distance(cluster_points,centroid)**2\n",
    "#         wcss += np.sum(distances)\n",
    "#     return wcss"
   ]
  },
  {
   "cell_type": "code",
   "execution_count": null,
   "metadata": {},
   "outputs": [],
   "source": [
    "# wcss=[]\n",
    "# for k in range(1,13): \n",
    "#     clusters, centroids=kmode(k)\n",
    "#     print(k,end=\": \")\n",
    "#     for i in range(k):\n",
    "#             points=[X[j] for j in range(200) if clusters[j]==i]\n",
    "#             print(len(points),end=\" \")\n",
    "#     print()\n",
    "#     wcss.append(calculate_wcss(centroids,clusters,X))"
   ]
  },
  {
   "cell_type": "code",
   "execution_count": null,
   "metadata": {},
   "outputs": [],
   "source": [
    "# n_samples, n_features = X.shape\n",
    "# print(n_samples,n_features)"
   ]
  }
 ],
 "metadata": {
  "kernelspec": {
   "display_name": "Python 3",
   "language": "python",
   "name": "python3"
  },
  "language_info": {
   "codemirror_mode": {
    "name": "ipython",
    "version": 3
   },
   "file_extension": ".py",
   "mimetype": "text/x-python",
   "name": "python",
   "nbconvert_exporter": "python",
   "pygments_lexer": "ipython3",
   "version": "3.10.9"
  },
  "orig_nbformat": 4
 },
 "nbformat": 4,
 "nbformat_minor": 2
}
