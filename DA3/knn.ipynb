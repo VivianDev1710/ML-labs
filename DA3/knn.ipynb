{
 "cells": [
  {
   "cell_type": "code",
   "execution_count": 34,
   "metadata": {},
   "outputs": [],
   "source": [
    "import numpy as np\n",
    "import pandas as pd\n",
    "#import scipy.stats as stats\n",
    "import matplotlib.pyplot as plt\n",
    "import sklearn\n",
    "#import statsmodels.api as sm\n",
    "from sklearn.metrics import r2_score\n",
    "\n",
    "import seaborn as sn"
   ]
  },
  {
   "cell_type": "code",
   "execution_count": 35,
   "metadata": {},
   "outputs": [],
   "source": [
    "df=pd.read_csv(\"datset_phones.csv\")"
   ]
  },
  {
   "cell_type": "code",
   "execution_count": 36,
   "metadata": {},
   "outputs": [
    {
     "data": {
      "text/html": [
       "<div>\n",
       "<style scoped>\n",
       "    .dataframe tbody tr th:only-of-type {\n",
       "        vertical-align: middle;\n",
       "    }\n",
       "\n",
       "    .dataframe tbody tr th {\n",
       "        vertical-align: top;\n",
       "    }\n",
       "\n",
       "    .dataframe thead th {\n",
       "        text-align: right;\n",
       "    }\n",
       "</style>\n",
       "<table border=\"1\" class=\"dataframe\">\n",
       "  <thead>\n",
       "    <tr style=\"text-align: right;\">\n",
       "      <th></th>\n",
       "      <th>Year</th>\n",
       "      <th>Model</th>\n",
       "      <th>Price</th>\n",
       "      <th>buy</th>\n",
       "    </tr>\n",
       "  </thead>\n",
       "  <tbody>\n",
       "    <tr>\n",
       "      <th>0</th>\n",
       "      <td>2010</td>\n",
       "      <td>1.10</td>\n",
       "      <td>120</td>\n",
       "      <td>no</td>\n",
       "    </tr>\n",
       "    <tr>\n",
       "      <th>1</th>\n",
       "      <td>2011</td>\n",
       "      <td>1.20</td>\n",
       "      <td>150</td>\n",
       "      <td>no</td>\n",
       "    </tr>\n",
       "    <tr>\n",
       "      <th>2</th>\n",
       "      <td>2011</td>\n",
       "      <td>1.80</td>\n",
       "      <td>160</td>\n",
       "      <td>no</td>\n",
       "    </tr>\n",
       "    <tr>\n",
       "      <th>3</th>\n",
       "      <td>2012</td>\n",
       "      <td>2.00</td>\n",
       "      <td>145</td>\n",
       "      <td>no</td>\n",
       "    </tr>\n",
       "    <tr>\n",
       "      <th>4</th>\n",
       "      <td>2012</td>\n",
       "      <td>2.10</td>\n",
       "      <td>150</td>\n",
       "      <td>no</td>\n",
       "    </tr>\n",
       "    <tr>\n",
       "      <th>5</th>\n",
       "      <td>2012</td>\n",
       "      <td>2.40</td>\n",
       "      <td>160</td>\n",
       "      <td>no</td>\n",
       "    </tr>\n",
       "    <tr>\n",
       "      <th>6</th>\n",
       "      <td>2013</td>\n",
       "      <td>2.60</td>\n",
       "      <td>190</td>\n",
       "      <td>no</td>\n",
       "    </tr>\n",
       "    <tr>\n",
       "      <th>7</th>\n",
       "      <td>2013</td>\n",
       "      <td>2.80</td>\n",
       "      <td>210</td>\n",
       "      <td>no</td>\n",
       "    </tr>\n",
       "    <tr>\n",
       "      <th>8</th>\n",
       "      <td>2014</td>\n",
       "      <td>2.90</td>\n",
       "      <td>220</td>\n",
       "      <td>no</td>\n",
       "    </tr>\n",
       "    <tr>\n",
       "      <th>9</th>\n",
       "      <td>2014</td>\n",
       "      <td>3.00</td>\n",
       "      <td>200</td>\n",
       "      <td>no</td>\n",
       "    </tr>\n",
       "    <tr>\n",
       "      <th>10</th>\n",
       "      <td>2015</td>\n",
       "      <td>3.10</td>\n",
       "      <td>210</td>\n",
       "      <td>no</td>\n",
       "    </tr>\n",
       "    <tr>\n",
       "      <th>11</th>\n",
       "      <td>2015</td>\n",
       "      <td>3.20</td>\n",
       "      <td>215</td>\n",
       "      <td>yes</td>\n",
       "    </tr>\n",
       "    <tr>\n",
       "      <th>12</th>\n",
       "      <td>2016</td>\n",
       "      <td>3.30</td>\n",
       "      <td>220</td>\n",
       "      <td>yes</td>\n",
       "    </tr>\n",
       "    <tr>\n",
       "      <th>13</th>\n",
       "      <td>2016</td>\n",
       "      <td>3.40</td>\n",
       "      <td>260</td>\n",
       "      <td>no</td>\n",
       "    </tr>\n",
       "    <tr>\n",
       "      <th>14</th>\n",
       "      <td>2017</td>\n",
       "      <td>3.50</td>\n",
       "      <td>270</td>\n",
       "      <td>no</td>\n",
       "    </tr>\n",
       "    <tr>\n",
       "      <th>15</th>\n",
       "      <td>2017</td>\n",
       "      <td>3.70</td>\n",
       "      <td>280</td>\n",
       "      <td>no</td>\n",
       "    </tr>\n",
       "    <tr>\n",
       "      <th>16</th>\n",
       "      <td>2018</td>\n",
       "      <td>4.00</td>\n",
       "      <td>250</td>\n",
       "      <td>yes</td>\n",
       "    </tr>\n",
       "    <tr>\n",
       "      <th>17</th>\n",
       "      <td>2018</td>\n",
       "      <td>4.20</td>\n",
       "      <td>264</td>\n",
       "      <td>yes</td>\n",
       "    </tr>\n",
       "    <tr>\n",
       "      <th>18</th>\n",
       "      <td>2018</td>\n",
       "      <td>4.40</td>\n",
       "      <td>270</td>\n",
       "      <td>yes</td>\n",
       "    </tr>\n",
       "    <tr>\n",
       "      <th>19</th>\n",
       "      <td>2019</td>\n",
       "      <td>4.60</td>\n",
       "      <td>282</td>\n",
       "      <td>no</td>\n",
       "    </tr>\n",
       "    <tr>\n",
       "      <th>20</th>\n",
       "      <td>2019</td>\n",
       "      <td>4.70</td>\n",
       "      <td>295</td>\n",
       "      <td>no</td>\n",
       "    </tr>\n",
       "    <tr>\n",
       "      <th>21</th>\n",
       "      <td>2020</td>\n",
       "      <td>4.80</td>\n",
       "      <td>303</td>\n",
       "      <td>no</td>\n",
       "    </tr>\n",
       "    <tr>\n",
       "      <th>22</th>\n",
       "      <td>2020</td>\n",
       "      <td>4.82</td>\n",
       "      <td>312</td>\n",
       "      <td>no</td>\n",
       "    </tr>\n",
       "    <tr>\n",
       "      <th>23</th>\n",
       "      <td>2020</td>\n",
       "      <td>4.90</td>\n",
       "      <td>323</td>\n",
       "      <td>yes</td>\n",
       "    </tr>\n",
       "    <tr>\n",
       "      <th>24</th>\n",
       "      <td>2021</td>\n",
       "      <td>4.95</td>\n",
       "      <td>337</td>\n",
       "      <td>yes</td>\n",
       "    </tr>\n",
       "    <tr>\n",
       "      <th>25</th>\n",
       "      <td>2021</td>\n",
       "      <td>5.00</td>\n",
       "      <td>300</td>\n",
       "      <td>yes</td>\n",
       "    </tr>\n",
       "    <tr>\n",
       "      <th>26</th>\n",
       "      <td>2022</td>\n",
       "      <td>5.10</td>\n",
       "      <td>315</td>\n",
       "      <td>yes</td>\n",
       "    </tr>\n",
       "    <tr>\n",
       "      <th>27</th>\n",
       "      <td>2022</td>\n",
       "      <td>5.20</td>\n",
       "      <td>340</td>\n",
       "      <td>yes</td>\n",
       "    </tr>\n",
       "    <tr>\n",
       "      <th>28</th>\n",
       "      <td>2022</td>\n",
       "      <td>5.40</td>\n",
       "      <td>360</td>\n",
       "      <td>no</td>\n",
       "    </tr>\n",
       "    <tr>\n",
       "      <th>29</th>\n",
       "      <td>2023</td>\n",
       "      <td>5.80</td>\n",
       "      <td>399</td>\n",
       "      <td>yes</td>\n",
       "    </tr>\n",
       "  </tbody>\n",
       "</table>\n",
       "</div>"
      ],
      "text/plain": [
       "    Year  Model  Price  buy\n",
       "0   2010   1.10    120   no\n",
       "1   2011   1.20    150   no\n",
       "2   2011   1.80    160   no\n",
       "3   2012   2.00    145   no\n",
       "4   2012   2.10    150   no\n",
       "5   2012   2.40    160   no\n",
       "6   2013   2.60    190   no\n",
       "7   2013   2.80    210   no\n",
       "8   2014   2.90    220   no\n",
       "9   2014   3.00    200   no\n",
       "10  2015   3.10    210   no\n",
       "11  2015   3.20    215  yes\n",
       "12  2016   3.30    220  yes\n",
       "13  2016   3.40    260   no\n",
       "14  2017   3.50    270   no\n",
       "15  2017   3.70    280   no\n",
       "16  2018   4.00    250  yes\n",
       "17  2018   4.20    264  yes\n",
       "18  2018   4.40    270  yes\n",
       "19  2019   4.60    282   no\n",
       "20  2019   4.70    295   no\n",
       "21  2020   4.80    303   no\n",
       "22  2020   4.82    312   no\n",
       "23  2020   4.90    323  yes\n",
       "24  2021   4.95    337  yes\n",
       "25  2021   5.00    300  yes\n",
       "26  2022   5.10    315  yes\n",
       "27  2022   5.20    340  yes\n",
       "28  2022   5.40    360   no\n",
       "29  2023   5.80    399  yes"
      ]
     },
     "execution_count": 36,
     "metadata": {},
     "output_type": "execute_result"
    }
   ],
   "source": [
    "df"
   ]
  },
  {
   "cell_type": "code",
   "execution_count": 37,
   "metadata": {},
   "outputs": [],
   "source": [
    "X=df[['Year','Price']]"
   ]
  },
  {
   "cell_type": "code",
   "execution_count": 38,
   "metadata": {},
   "outputs": [],
   "source": [
    "Y=df['buy']"
   ]
  },
  {
   "cell_type": "code",
   "execution_count": 39,
   "metadata": {},
   "outputs": [],
   "source": [
    "import math"
   ]
  },
  {
   "cell_type": "code",
   "execution_count": 40,
   "metadata": {},
   "outputs": [],
   "source": [
    "\n",
    "def knn(year,price):\n",
    "    df['diff1']=df['Year']-year\n",
    "    df['diff2']=df['Price']-price\n",
    "    df['d1sqr']=df['diff1']**2\n",
    "    df['d2sqr']=df['diff2']**2\n",
    "    df['dist']=np.sqrt(df['d2sqr']+df['d1sqr'])\n",
    "    print(df)\n",
    "    "
   ]
  },
  {
   "cell_type": "code",
   "execution_count": 41,
   "metadata": {},
   "outputs": [
    {
     "name": "stdout",
     "output_type": "stream",
     "text": [
      "    Year  Model  Price  buy  diff1  diff2  d1sqr  d2sqr        dist\n",
      "0   2010   1.10    120   no     -7   -220     49  48400  220.111335\n",
      "1   2011   1.20    150   no     -6   -190     36  36100  190.094713\n",
      "2   2011   1.80    160   no     -6   -180     36  32400  180.099972\n",
      "3   2012   2.00    145   no     -5   -195     25  38025  195.064092\n",
      "4   2012   2.10    150   no     -5   -190     25  36100  190.065778\n",
      "5   2012   2.40    160   no     -5   -180     25  32400  180.069431\n",
      "6   2013   2.60    190   no     -4   -150     16  22500  150.053324\n",
      "7   2013   2.80    210   no     -4   -130     16  16900  130.061524\n",
      "8   2014   2.90    220   no     -3   -120      9  14400  120.037494\n",
      "9   2014   3.00    200   no     -3   -140      9  19600  140.032139\n",
      "10  2015   3.10    210   no     -2   -130      4  16900  130.015384\n",
      "11  2015   3.20    215  yes     -2   -125      4  15625  125.015999\n",
      "12  2016   3.30    220  yes     -1   -120      1  14400  120.004167\n",
      "13  2016   3.40    260   no     -1    -80      1   6400   80.006250\n",
      "14  2017   3.50    270   no      0    -70      0   4900   70.000000\n",
      "15  2017   3.70    280   no      0    -60      0   3600   60.000000\n",
      "16  2018   4.00    250  yes      1    -90      1   8100   90.005555\n",
      "17  2018   4.20    264  yes      1    -76      1   5776   76.006579\n",
      "18  2018   4.40    270  yes      1    -70      1   4900   70.007142\n",
      "19  2019   4.60    282   no      2    -58      4   3364   58.034473\n",
      "20  2019   4.70    295   no      2    -45      4   2025   45.044423\n",
      "21  2020   4.80    303   no      3    -37      9   1369   37.121422\n",
      "22  2020   4.82    312   no      3    -28      9    784   28.160256\n",
      "23  2020   4.90    323  yes      3    -17      9    289   17.262677\n",
      "24  2021   4.95    337  yes      4     -3     16      9    5.000000\n",
      "25  2021   5.00    300  yes      4    -40     16   1600   40.199502\n",
      "26  2022   5.10    315  yes      5    -25     25    625   25.495098\n",
      "27  2022   5.20    340  yes      5      0     25      0    5.000000\n",
      "28  2022   5.40    360   no      5     20     25    400   20.615528\n",
      "29  2023   5.80    399  yes      6     59     36   3481   59.304300\n"
     ]
    }
   ],
   "source": [
    "knn(2017,340)"
   ]
  },
  {
   "cell_type": "code",
   "execution_count": 42,
   "metadata": {},
   "outputs": [],
   "source": [
    "def knn_classify(year,price,k):\n",
    "    # df['diff1']=df['Year']-year\n",
    "    # df['diff2']=df['Price']-price\n",
    "    # df['d1sqr']=df['diff1']**2\n",
    "    # df['d2sqr']=df['diff2']**2\n",
    "    df['distance']=np.sqrt(np.square(df['Year']-year)+np.square(df['Price']-price))\n",
    "    top_k = df.nsmallest(k, 'distance')\n",
    "    prediction = top_k['buy'].value_counts().head(1).index[0]\n",
    "    return prediction"
   ]
  },
  {
   "cell_type": "code",
   "execution_count": 43,
   "metadata": {},
   "outputs": [
    {
     "name": "stdout",
     "output_type": "stream",
     "text": [
      "no\n"
     ]
    }
   ],
   "source": [
    "print(df['buy'].value_counts().head(1).index[0])"
   ]
  },
  {
   "cell_type": "code",
   "execution_count": 44,
   "metadata": {},
   "outputs": [
    {
     "data": {
      "text/plain": [
       "'yes'"
      ]
     },
     "execution_count": 44,
     "metadata": {},
     "output_type": "execute_result"
    }
   ],
   "source": [
    "knn_classify(2017,340,5)"
   ]
  },
  {
   "cell_type": "code",
   "execution_count": 45,
   "metadata": {},
   "outputs": [
    {
     "data": {
      "text/plain": [
       "'yes'"
      ]
     },
     "execution_count": 45,
     "metadata": {},
     "output_type": "execute_result"
    }
   ],
   "source": [
    "knn_classify(2023,420,5)"
   ]
  },
  {
   "cell_type": "code",
   "execution_count": 46,
   "metadata": {},
   "outputs": [
    {
     "data": {
      "text/plain": [
       "'no'"
      ]
     },
     "execution_count": 46,
     "metadata": {},
     "output_type": "execute_result"
    }
   ],
   "source": [
    "knn_classify(2016,200,5)"
   ]
  },
  {
   "cell_type": "code",
   "execution_count": 47,
   "metadata": {},
   "outputs": [
    {
     "data": {
      "text/plain": [
       "'no'"
      ]
     },
     "execution_count": 47,
     "metadata": {},
     "output_type": "execute_result"
    }
   ],
   "source": [
    "knn_classify(2016,200,7)"
   ]
  },
  {
   "cell_type": "code",
   "execution_count": 57,
   "metadata": {},
   "outputs": [
    {
     "data": {
      "image/png": "[encoded data removed]",
      "text/plain": [
       "<Figure size 640x480 with 1 Axes>"
      ]
     },
     "metadata": {},
     "output_type": "display_data"
    }
   ],
   "source": [
    "# create a dataframe with two columns named 'x' and 'y'\n",
    "# create a scatter plot of the points in the dataframe\n",
    "cols={'yes':'b','no':'r'}\n",
    "mark={'yes':'s','no':'o'}\n",
    "fig,ax=plt.subplots()\n",
    "for i,row in df.iterrows():\n",
    "    ax.scatter(x=row['Year'], y=row['Price'],  color=cols[row['buy']],marker=mark[row['buy']])\n",
    "\n",
    "# show the plot\n",
    "plt.show()"
   ]
  },
  {
   "cell_type": "code",
   "execution_count": null,
   "metadata": {},
   "outputs": [
    {
     "data": {
      "image/png": "[encoded data removed]",
      "text/plain": [
       "<Figure size 640x480 with 1 Axes>"
      ]
     },
     "metadata": {},
     "output_type": "display_data"
    }
   ],
   "source": [
    "k=5\n",
    "xx, yy = np.meshgrid(np.arange(2009, 2024, 0.5), np.arange(100, 450, 1))\n",
    "zz = np.array([knn_classify(x, y,k)=='yes' for x, y in zip(xx.ravel(), yy.ravel())])\n",
    "zz = zz.reshape(xx.shape)\n",
    "# print(zz)\n",
    "fig, ax = plt.subplots()\n",
    "ax.contourf(xx, yy, zz, cmap='coolwarm', alpha=0.5)\n",
    "\n",
    "colors = {'yes': 'red', 'no': 'blue'}\n",
    "markers = {'yes': 'o', 'no': 's'}\n",
    "for i, row in df.iterrows():\n",
    "    ax.scatter(row['Year'], row['Price'], c=colors[row['buy']], marker=markers[row['buy']], s=30)\n",
    "plt.show()"
   ]
  }
 ],
 "metadata": {
  "kernelspec": {
   "display_name": "Python 3",
   "language": "python",
   "name": "python3"
  },
  "language_info": {
   "codemirror_mode": {
    "name": "ipython",
    "version": 3
   },
   "file_extension": ".py",
   "mimetype": "text/x-python",
   "name": "python",
   "nbconvert_exporter": "python",
   "pygments_lexer": "ipython3",
   "version": "3.10.9"
  },
  "orig_nbformat": 4,
  "vscode": {
   "interpreter": {
    "hash": "a42ccb73e7d9bfdf27e036f1d2b8b681e55fc0743cc5586bc2474d4a60f4b886"
   }
  }
 },
 "nbformat": 4,
 "nbformat_minor": 2
}
